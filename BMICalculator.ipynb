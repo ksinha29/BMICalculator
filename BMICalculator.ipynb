{
 "cells": [
  {
   "cell_type": "code",
   "execution_count": 1,
   "id": "307f4748",
   "metadata": {},
   "outputs": [],
   "source": [
    "# -*- coding: utf-8 -*-\n",
    "\"\"\"\n",
    "Created on Sun Feb  6 11:10:20 2022\n",
    "@author: kriti sinha\n",
    "\"\"\"\n",
    "### Create Your own BMI Calculator\n",
    "\n",
    "from pywebio.input import *\n",
    "from pywebio.output import *\n",
    "\n",
    "def bmicalculator():\n",
    "    height=input(\"Please enter the height in cm\",type=FLOAT)\n",
    "    weight=input(\"Please enter the weight in Kg\",type=FLOAT)\n",
    "    \n",
    "    bmi=weight/(height/100)**2\n",
    "    \n",
    "    bmi_output=[(16, 'Severely underweight'), (18.5, 'Underweight'),\n",
    "                  (25, 'Normal'), (30, 'Overweight'),\n",
    "                  (35, 'Moderately obese'), (float('inf'), 'Severely obese')]\n",
    "    \n",
    "    for tuple1,tuple2 in bmi_output:\n",
    "        if bmi<=tuple1:\n",
    "            put_text('Your BMI is :%.1f and your weight is :%s'%(bmi,tuple2))\n",
    "            break\n",
    "        \n",
    "    \n",
    "if __name__=='__main__':\n",
    "    bmicalculator()"
   ]
  },
  {
   "cell_type": "code",
   "execution_count": null,
   "id": "076b3928",
   "metadata": {},
   "outputs": [],
   "source": []
  }
 ],
 "metadata": {
  "kernelspec": {
   "display_name": "Python 3",
   "language": "python",
   "name": "python3"
  },
  "language_info": {
   "codemirror_mode": {
    "name": "ipython",
    "version": 3
   },
   "file_extension": ".py",
   "mimetype": "text/x-python",
   "name": "python",
   "nbconvert_exporter": "python",
   "pygments_lexer": "ipython3",
   "version": "3.8.8"
  }
 },
 "nbformat": 4,
 "nbformat_minor": 5
}
